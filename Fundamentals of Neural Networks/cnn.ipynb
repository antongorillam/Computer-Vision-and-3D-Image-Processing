{
 "cells": [
  {
   "cell_type": "code",
   "execution_count": 8,
   "metadata": {},
   "outputs": [],
   "source": [
    "from mnist import MNIST\n",
    "import numpy as np\n",
    "import matplotlib.pyplot as plt\n",
    "IMG_DIM = 28"
   ]
  },
  {
   "cell_type": "code",
   "execution_count": 9,
   "metadata": {},
   "outputs": [],
   "source": [
    "mndata = MNIST('../mnist')\n",
    "train_images, train_labels = mndata.load_training()\n",
    "test_images, test_labels = mndata.load_testing()\n",
    "\n",
    "train_images, train_labels = np.array(train_images), np.array(train_labels)\n",
    "test_images, test_labels = np.array(test_images), np.array(test_labels)"
   ]
  },
  {
   "cell_type": "code",
   "execution_count": 10,
   "metadata": {},
   "outputs": [
    {
     "data": {
      "image/png": "[encoded data removed]",
      "text/plain": [
       "<Figure size 640x480 with 1 Axes>"
      ]
     },
     "metadata": {},
     "output_type": "display_data"
    }
   ],
   "source": [
    "img_idx = np.random.randint(len(test_images))\n",
    "plt.imshow(test_images[img_idx].reshape(IMG_DIM, IMG_DIM))\n",
    "plt.show()\n"
   ]
  },
  {
   "cell_type": "code",
   "execution_count": 11,
   "metadata": {},
   "outputs": [],
   "source": [
    "# Creating validation set and convert to tensors\n",
    "from sklearn.model_selection import train_test_split \n",
    "import torch\n",
    "train_images.shape, train_labels.shape\n",
    "train_images, val_images, train_labels, val_labels = train_test_split(train_images, train_labels, test_size=0.10)\n",
    "\n",
    "n_train, n_val = train_images.shape[0], val_images.shape[0]\n",
    "train_images = train_images.reshape(n_train, 1, IMG_DIM, IMG_DIM)\n",
    "val_images = val_images.reshape(n_val, 1, IMG_DIM, IMG_DIM)\n",
    "test_images = test_images.reshape(test_images.shape[0], 1, IMG_DIM, IMG_DIM)\n",
    "\n",
    "train_images, val_images, test_images = torch.from_numpy(train_images).type(torch.FloatTensor), torch.from_numpy(val_images).type(torch.FloatTensor), torch.from_numpy(test_images).type(torch.FloatTensor)\n",
    "train_labels, val_labels, test_labels = train_labels.astype(int), val_labels.astype(int), test_labels.astype(int)\n",
    "train_labels, val_labels, test_labels = torch.from_numpy(train_labels), torch.from_numpy(val_labels), torch.from_numpy(test_labels) \n"
   ]
  },
  {
   "cell_type": "code",
   "execution_count": 12,
   "metadata": {},
   "outputs": [],
   "source": [
    "# Let's define some variables\n",
    "DEVICE = torch.device(\"cude\" if torch.cuda.is_available() else \"cpu\")\n",
    "N_EPOCHS = 20\n",
    "BATCH_SIZE = 150\n",
    "LEARNING_RATE = 1e-2\n",
    "DROP_OUT_RATE = 1e-1\n",
    "N_CLASSES = (train_labels.max() + 1).item()"
   ]
  },
  {
   "cell_type": "code",
   "execution_count": 13,
   "metadata": {},
   "outputs": [],
   "source": [
    "# Create CNN\n",
    "import torch.nn as nn\n",
    "class CNN(nn.Module):\n",
    "    def __init__(self):\n",
    "        super(CNN, self).__init__()\n",
    "        self.conv1 = nn.Sequential(\n",
    "            nn.Conv2d(1, 32, kernel_size=5, stride=1, padding=1),\n",
    "            nn.BatchNorm2d(32),\n",
    "            nn.ReLU(),\n",
    "            nn.MaxPool2d(kernel_size=2, stride=2),\n",
    "        )\n",
    "        self.conv2 = nn.Sequential(\n",
    "            nn.Conv2d(32, 13, kernel_size=5, stride=1, padding=1),\n",
    "            nn.BatchNorm2d(13),\n",
    "            nn.ReLU(),\n",
    "            nn.MaxPool2d(kernel_size=2, stride=2),\n",
    "        ) \n",
    "        self.fc1 = nn.Sequential(\n",
    "            nn.Linear(13*5*5, 180),\n",
    "            nn.Dropout(DROP_OUT_RATE),\n",
    "            nn.Linear(180, 10),\n",
    "        )\n",
    "    \n",
    "    def forward(self, x):\n",
    "        x = self.conv1(x)\n",
    "        x = self.conv2(x)\n",
    "        x = x.view(x.size(0), -1)\n",
    "        x = self.fc1(x)\n",
    "        return x"
   ]
  },
  {
   "cell_type": "code",
   "execution_count": 14,
   "metadata": {},
   "outputs": [],
   "source": [
    "from torch.autograd import Variable\n",
    "from torch.utils.tensorboard import SummaryWriter\n",
    "from torch import optim\n",
    "model = CNN()\n",
    "model.train()\n",
    "criterion = nn.CrossEntropyLoss()   \n",
    "optimizer = optim.Adam(model.parameters(), lr = LEARNING_RATE)\n",
    "\n",
    "\n",
    "train = torch.utils.data.TensorDataset(train_images,train_labels)\n",
    "val = torch.utils.data.TensorDataset(val_images, val_labels)\n",
    "test = torch.utils.data.TensorDataset(test_images, test_labels)\n",
    "\n",
    "train_loader = torch.utils.data.DataLoader(train, batch_size=BATCH_SIZE, shuffle=True)\n",
    "val_loader = torch.utils.data.DataLoader(val, batch_size=BATCH_SIZE, shuffle=True)\n",
    "test_loader = torch.utils.data.DataLoader(test, batch_size=BATCH_SIZE, shuffle=True)\n",
    "\n",
    "def train(train_loader, val_loader, test_loader):\n",
    "    writer = SummaryWriter()\n",
    "\n",
    "    for epoch in range(N_EPOCHS):\n",
    "\n",
    "        correctly_classified = 0\n",
    "        total_classified = 0\n",
    "        train_loss = 0\n",
    "        for i, (images, labels) in enumerate(train_loader):\n",
    "            train = Variable(images)\n",
    "            labels = Variable(labels)\n",
    "            optimizer.zero_grad()\n",
    "        \n",
    "            out = model(train)\n",
    "            loss = criterion(out, labels)\n",
    "\n",
    "            optimizer.zero_grad()\n",
    "            loss.backward()\n",
    "            optimizer.step()\n",
    "\n",
    "            train_loss += loss.item()\n",
    "            predicted = torch.max(out.data, 1)[1]\n",
    "            total_classified += len(labels)\n",
    "            correctly_classified += (predicted == labels).sum().item()\n",
    "        \n",
    "        val_accuaracy, val_loss = evaluate(val_loader)\n",
    "        train_accuaracy = 100 * correctly_classified / total_classified  \n",
    "        writer.add_scalar(\"Accuaracy/train\", train_accuaracy, epoch)\n",
    "        writer.add_scalar(\"Accuaracy/val\", val_accuaracy, epoch)\n",
    "        writer.add_scalar(\"Loss/train\", train_loss, epoch)\n",
    "        writer.add_scalar(\"Loss/val\", val_loss, epoch)\n",
    "        print(f\"Epoch: {epoch+1}/{N_EPOCHS}, loss: {train_loss}, accuaracy: {train_accuaracy}\")\n",
    "\n",
    "    writer.flush()\n",
    "\n",
    "def evaluate(data_loader):\n",
    "    \n",
    "    with torch.no_grad():\n",
    "        correctly_classified = 0\n",
    "        total_classified = 0\n",
    "        loss = 0\n",
    "        for i, (images, labels) in enumerate(data_loader):\n",
    "            \n",
    "            train, labels = Variable(images), Variable(labels)\n",
    "            out = model(train)\n",
    "            loss = criterion(out, labels)\n",
    "            loss += loss.item()\n",
    "            predicted = torch.max(out.data, 1)[1]\n",
    "            total_classified += len(labels)\n",
    "            correctly_classified += (predicted == labels).sum().item()\n",
    "\n",
    "    accuaracy = 100 * correctly_classified / total_classified\n",
    "    return accuaracy, loss"
   ]
  },
  {
   "cell_type": "code",
   "execution_count": 15,
   "metadata": {},
   "outputs": [
    {
     "name": "stderr",
     "output_type": "stream",
     "text": [
      "2022-12-08 23:58:44.057920: W tensorflow/stream_executor/platform/default/dso_loader.cc:64] Could not load dynamic library 'libcudart.so.11.0'; dlerror: libcudart.so.11.0: cannot open shared object file: No such file or directory\n",
      "2022-12-08 23:58:44.057967: I tensorflow/stream_executor/cuda/cudart_stub.cc:29] Ignore above cudart dlerror if you do not have a GPU set up on your machine.\n"
     ]
    }
   ],
   "source": [
    "train(train_loader, val_loader, test_loader)"
   ]
  },
  {
   "cell_type": "code",
   "execution_count": null,
   "metadata": {},
   "outputs": [
    {
     "name": "stdout",
     "output_type": "stream",
     "text": [
      "Final test evaluation score: 97.98\n"
     ]
    }
   ],
   "source": [
    "test_accuaracy, _ = evaluate(test_loader)\n",
    "print(f\"Final test evaluation score: {test_accuaracy:.2f}\")"
   ]
  }
 ],
 "metadata": {
  "interpreter": {
   "hash": "279c8b50df304f745eb07ab34d4c9440a9c9a9723aa7cb81c69d60aaa8fdc250"
  },
  "kernelspec": {
   "display_name": "Python 3.8.15 ('experiments')",
   "language": "python",
   "name": "python3"
  },
  "language_info": {
   "codemirror_mode": {
    "name": "ipython",
    "version": 3
   },
   "file_extension": ".py",
   "mimetype": "text/x-python",
   "name": "python",
   "nbconvert_exporter": "python",
   "pygments_lexer": "ipython3",
   "version": "3.8.15"
  },
  "orig_nbformat": 4
 },
 "nbformat": 4,
 "nbformat_minor": 2
}
