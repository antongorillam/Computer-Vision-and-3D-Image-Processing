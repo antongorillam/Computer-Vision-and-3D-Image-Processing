{
 "cells": [
  {
   "cell_type": "code",
   "execution_count": 40,
   "metadata": {},
   "outputs": [],
   "source": [
    "from mnist import MNIST\n",
    "import numpy as np\n",
    "import matplotlib.pyplot as plt\n",
    "IMG_DIM = 28"
   ]
  },
  {
   "cell_type": "code",
   "execution_count": 41,
   "metadata": {},
   "outputs": [],
   "source": [
    "mndata = MNIST('../mnist')\n",
    "train_images, train_labels = mndata.load_training()\n",
    "test_images, test_labels = mndata.load_testing()\n",
    "\n",
    "train_images, train_labels = np.array(train_images), np.array(train_labels)\n",
    "test_images, test_labels = np.array(test_images), np.array(test_labels)"
   ]
  },
  {
   "cell_type": "code",
   "execution_count": 42,
   "metadata": {},
   "outputs": [
    {
     "data": {
      "image/png": "[encoded data removed]",
      "text/plain": [
       "<Figure size 640x480 with 1 Axes>"
      ]
     },
     "metadata": {},
     "output_type": "display_data"
    }
   ],
   "source": [
    "img_idx = np.random.randint(len(test_images))\n",
    "plt.imshow(test_images[img_idx].reshape(IMG_DIM, IMG_DIM))\n",
    "plt.show()\n"
   ]
  },
  {
   "cell_type": "code",
   "execution_count": 43,
   "metadata": {},
   "outputs": [],
   "source": [
    "# Creating validation set and convert to tensors\n",
    "from sklearn.model_selection import train_test_split \n",
    "import torch\n",
    "train_images.shape, train_labels.shape\n",
    "train_images, val_images, train_labels, val_labels = train_test_split(train_images, train_labels, test_size=0.10)\n",
    "\n",
    "n_train, n_val = train_images.shape[0], val_images.shape[0]\n",
    "train_images = train_images.reshape(n_train, 1, IMG_DIM, IMG_DIM)\n",
    "val_images = val_images.reshape(n_val, 1, IMG_DIM, IMG_DIM)\n",
    "test_images = test_images.reshape(test_images.shape[0], 1, IMG_DIM, IMG_DIM)\n",
    "\n",
    "train_images, val_images, test_images = torch.from_numpy(train_images).type(torch.FloatTensor), torch.from_numpy(val_images).type(torch.FloatTensor), torch.from_numpy(test_images).type(torch.FloatTensor)\n",
    "train_labels, val_labels, test_labels = train_labels.astype(int), val_labels.astype(int), test_labels.astype(int)\n",
    "train_labels, val_labels, test_labels = torch.from_numpy(train_labels), torch.from_numpy(val_labels), torch.from_numpy(test_labels) \n"
   ]
  },
  {
   "cell_type": "code",
   "execution_count": 44,
   "metadata": {},
   "outputs": [],
   "source": [
    "# Let's define some variables\n",
    "DEVICE = torch.device(\"cude\" if torch.cuda.is_available() else \"cpu\")\n",
    "N_EPOCHS = 20\n",
    "BATCH_SIZE = 150\n",
    "LEARNING_RATE = 1e-2\n",
    "DROP_OUT_RATE = 1e-1\n",
    "N_CLASSES = (train_labels.max() + 1).item()"
   ]
  },
  {
   "cell_type": "code",
   "execution_count": 45,
   "metadata": {},
   "outputs": [],
   "source": [
    "# Create CNN\n",
    "import torch.nn as nn\n",
    "class CNN(nn.Module):\n",
    "    def __init__(self):\n",
    "        super(CNN, self).__init__()\n",
    "        self.conv1 = nn.Sequential(\n",
    "            nn.Conv2d(1, 32, kernel_size=5, stride=1, padding=1),\n",
    "            nn.BatchNorm2d(32),\n",
    "            nn.ReLU(),\n",
    "            nn.MaxPool2d(kernel_size=2, stride=2),\n",
    "        )\n",
    "        self.conv2 = nn.Sequential(\n",
    "            nn.Conv2d(32, 13, kernel_size=5, stride=1, padding=1),\n",
    "            nn.BatchNorm2d(13),\n",
    "            nn.ReLU(),\n",
    "            nn.MaxPool2d(kernel_size=2, stride=2),\n",
    "        ) \n",
    "        self.fc1 = nn.Sequential(\n",
    "            nn.Linear(13*5*5, 180),\n",
    "            nn.Dropout(DROP_OUT_RATE),\n",
    "            nn.Linear(180, 10),\n",
    "        )\n",
    "    \n",
    "    def forward(self, x):\n",
    "        x = self.conv1(x)\n",
    "        x = self.conv2(x)\n",
    "        x = x.view(x.size(0), -1)\n",
    "        x = self.fc1(x)\n",
    "        return x"
   ]
  },
  {
   "cell_type": "code",
   "execution_count": 46,
   "metadata": {},
   "outputs": [],
   "source": [
    "from torch.autograd import Variable\n",
    "from torch.utils.tensorboard import SummaryWriter\n",
    "from torch import optim\n",
    "import time\n",
    "model = CNN()\n",
    "model.train()\n",
    "criterion = nn.CrossEntropyLoss()   \n",
    "optimizer = optim.Adam(model.parameters(), lr = LEARNING_RATE)\n",
    "\n",
    "\n",
    "train = torch.utils.data.TensorDataset(train_images,train_labels)\n",
    "val = torch.utils.data.TensorDataset(val_images, val_labels)\n",
    "test = torch.utils.data.TensorDataset(test_images, test_labels)\n",
    "\n",
    "train_loader = torch.utils.data.DataLoader(train, batch_size=BATCH_SIZE, shuffle=True)\n",
    "val_loader = torch.utils.data.DataLoader(val, batch_size=BATCH_SIZE, shuffle=True)\n",
    "test_loader = torch.utils.data.DataLoader(test, batch_size=BATCH_SIZE, shuffle=True)\n",
    "\n",
    "def train(train_loader, val_loader, test_loader):\n",
    "    writer = SummaryWriter()\n",
    "    train_accuaracy, train_loss = evaluate(train_loader)\n",
    "    val_accuaracy, val_loss = evaluate(val_loader)\n",
    "    \n",
    "    writer.add_scalar(\"Accuaracy/train\", train_accuaracy, 0)\n",
    "    writer.add_scalar(\"Accuaracy/val\", val_accuaracy, 0)\n",
    "    writer.add_scalar(\"Loss/train\", train_loss, 0)\n",
    "    writer.add_scalar(\"Loss/val\", val_loss, 0)\n",
    "    tic = time.perf_counter()\n",
    "    toc = time.perf_counter()\n",
    "    time_format = time.strftime(\"%M:%S\", time.gmtime(toc - tic))\n",
    "    print(f\"Time elapsed: {time_format}, epoch: {str(0).zfill(2)}/{N_EPOCHS}, train loss: {train_loss:.2f}, train accuaracy: {train_accuaracy:.2f}, val loss: {val_loss:.2f}, val accuaracy: {val_accuaracy:.2f}\")\n",
    "\n",
    "    for epoch in range(1, N_EPOCHS+1):\n",
    "        \n",
    "        correctly_classified = 0\n",
    "        total_classified = 0\n",
    "        train_loss = 0\n",
    "        for i, (images, labels) in enumerate(train_loader):\n",
    "            train = Variable(images)\n",
    "            labels = Variable(labels)\n",
    "            optimizer.zero_grad()\n",
    "        \n",
    "            out = model(train)\n",
    "            loss = criterion(out, labels)\n",
    "\n",
    "            optimizer.zero_grad()\n",
    "            loss.backward()\n",
    "            optimizer.step()\n",
    "\n",
    "            train_loss += loss.item()\n",
    "            predicted = torch.max(out.data, 1)[1]\n",
    "            total_classified += len(labels)\n",
    "            correctly_classified += (predicted == labels).sum().item()\n",
    "        \n",
    "        val_accuaracy, val_loss = evaluate(val_loader)\n",
    "        train_accuaracy = 100 * correctly_classified / total_classified  \n",
    "        writer.add_scalar(\"Accuaracy/train\", train_accuaracy, epoch)\n",
    "        writer.add_scalar(\"Accuaracy/val\", val_accuaracy, epoch)\n",
    "        writer.add_scalar(\"Loss/train\", train_loss, epoch)\n",
    "        writer.add_scalar(\"Loss/val\", val_loss, epoch)\n",
    "        toc = time.perf_counter()\n",
    "        time_format = time.strftime(\"%M:%S\", time.gmtime(toc - tic))\n",
    "        print(f\"Time elapsed: {time_format}, epoch: {str(epoch).zfill(2)}/{N_EPOCHS}, train loss: {train_loss:.2f}, train accuaracy: {train_accuaracy:.2f}, val loss: {val_loss:.2f}, val accuaracy: {val_accuaracy:.2f}\")\n",
    "    writer.flush()\n",
    "\n",
    "def evaluate(data_loader):\n",
    "    \n",
    "    with torch.no_grad():\n",
    "        correctly_classified = 0\n",
    "        total_classified = 0\n",
    "        loss = 0\n",
    "        for i, (images, labels) in enumerate(data_loader):\n",
    "            \n",
    "            train, labels = Variable(images), Variable(labels)\n",
    "            out = model(train)\n",
    "            loss = criterion(out, labels)\n",
    "            loss += loss.item()\n",
    "            predicted = torch.max(out.data, 1)[1]\n",
    "            total_classified += len(labels)\n",
    "            correctly_classified += (predicted == labels).sum().item()\n",
    "\n",
    "    accuaracy = 100 * correctly_classified / total_classified\n",
    "    return accuaracy, loss"
   ]
  },
  {
   "cell_type": "code",
   "execution_count": 47,
   "metadata": {},
   "outputs": [
    {
     "name": "stdout",
     "output_type": "stream",
     "text": [
      "Time elapsed: 00:00, epoch: 00/20, train loss: 4.78, train accuaracy: 12.65, val loss: 4.78, val accuaracy: 12.73\n",
      "Time elapsed: 00:26, epoch: 01/20, train loss: 72.53, train accuaracy: 94.18, val loss: 0.10, val accuaracy: 98.02\n",
      "Time elapsed: 00:54, epoch: 02/20, train loss: 21.32, train accuaracy: 98.20, val loss: 0.04, val accuaracy: 98.42\n",
      "Time elapsed: 01:26, epoch: 03/20, train loss: 17.59, train accuaracy: 98.50, val loss: 0.17, val accuaracy: 98.58\n",
      "Time elapsed: 01:51, epoch: 04/20, train loss: 15.22, train accuaracy: 98.69, val loss: 0.03, val accuaracy: 98.50\n",
      "Time elapsed: 02:16, epoch: 05/20, train loss: 14.34, train accuaracy: 98.72, val loss: 0.04, val accuaracy: 98.15\n",
      "Time elapsed: 02:42, epoch: 06/20, train loss: 12.49, train accuaracy: 98.86, val loss: 0.24, val accuaracy: 98.55\n",
      "Time elapsed: 03:11, epoch: 07/20, train loss: 13.49, train accuaracy: 98.86, val loss: 0.16, val accuaracy: 98.52\n",
      "Time elapsed: 03:37, epoch: 08/20, train loss: 13.39, train accuaracy: 98.84, val loss: 0.00, val accuaracy: 98.52\n",
      "Time elapsed: 04:05, epoch: 09/20, train loss: 11.66, train accuaracy: 98.99, val loss: 0.02, val accuaracy: 98.57\n",
      "Time elapsed: 04:29, epoch: 10/20, train loss: 11.80, train accuaracy: 99.03, val loss: 0.01, val accuaracy: 97.37\n",
      "Time elapsed: 04:54, epoch: 11/20, train loss: 11.81, train accuaracy: 99.07, val loss: 0.33, val accuaracy: 98.52\n",
      "Time elapsed: 05:18, epoch: 12/20, train loss: 11.94, train accuaracy: 99.01, val loss: 0.26, val accuaracy: 98.37\n",
      "Time elapsed: 05:49, epoch: 13/20, train loss: 13.66, train accuaracy: 98.93, val loss: 0.52, val accuaracy: 98.65\n",
      "Time elapsed: 06:14, epoch: 14/20, train loss: 10.60, train accuaracy: 99.15, val loss: 0.26, val accuaracy: 98.18\n",
      "Time elapsed: 06:38, epoch: 15/20, train loss: 12.00, train accuaracy: 99.01, val loss: 0.01, val accuaracy: 98.80\n",
      "Time elapsed: 07:03, epoch: 16/20, train loss: 11.56, train accuaracy: 99.11, val loss: 0.18, val accuaracy: 98.72\n",
      "Time elapsed: 07:27, epoch: 17/20, train loss: 10.15, train accuaracy: 99.16, val loss: 0.06, val accuaracy: 98.70\n",
      "Time elapsed: 07:52, epoch: 18/20, train loss: 12.21, train accuaracy: 99.05, val loss: 0.18, val accuaracy: 98.80\n",
      "Time elapsed: 08:17, epoch: 19/20, train loss: 10.12, train accuaracy: 99.22, val loss: 0.14, val accuaracy: 98.78\n",
      "Time elapsed: 08:48, epoch: 20/20, train loss: 12.91, train accuaracy: 99.06, val loss: 0.21, val accuaracy: 98.33\n"
     ]
    }
   ],
   "source": [
    "train(train_loader, val_loader, test_loader)"
   ]
  },
  {
   "cell_type": "code",
   "execution_count": 48,
   "metadata": {},
   "outputs": [
    {
     "name": "stdout",
     "output_type": "stream",
     "text": [
      "Final test evaluation score: 98.72\n"
     ]
    }
   ],
   "source": [
    "test_accuaracy, _ = evaluate(test_loader)\n",
    "print(f\"Final test evaluation score: {test_accuaracy:.2f}\")"
   ]
  }
 ],
 "metadata": {
  "interpreter": {
   "hash": "279c8b50df304f745eb07ab34d4c9440a9c9a9723aa7cb81c69d60aaa8fdc250"
  },
  "kernelspec": {
   "display_name": "Python 3.8.15 ('experiments')",
   "language": "python",
   "name": "python3"
  },
  "language_info": {
   "codemirror_mode": {
    "name": "ipython",
    "version": 3
   },
   "file_extension": ".py",
   "mimetype": "text/x-python",
   "name": "python",
   "nbconvert_exporter": "python",
   "pygments_lexer": "ipython3",
   "version": "3.8.15"
  },
  "orig_nbformat": 4
 },
 "nbformat": 4,
 "nbformat_minor": 2
}
